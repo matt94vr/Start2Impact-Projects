{
 "cells": [
  {
   "cell_type": "markdown",
   "metadata": {},
   "source": [
    "<center><font size=+1.5><b>PRIMO PROGETTO DI MACHINE LEARNING </b></font></center>"
   ]
  },
  {
   "cell_type": "markdown",
   "metadata": {},
   "source": [
    "In questo primo progetto sperimento le tecniche base di Machine Learning appena apprese. <br>\n",
    "Poichè il dataset usato è molto semplice e non ha bisogno di una particolare preparazione, salto la fase di EDA e mi concentro solo sull'addestramento e la validazione dell'algoritmo SVC."
   ]
  },
  {
   "cell_type": "markdown",
   "metadata": {},
   "source": [
    "##  DATASET WINE"
   ]
  },
  {
   "cell_type": "code",
   "execution_count": 1,
   "metadata": {},
   "outputs": [],
   "source": [
    "#importo le librerie di base\n",
    "import numpy as np\n",
    "import pandas as pd"
   ]
  },
  {
   "cell_type": "code",
   "execution_count": 2,
   "metadata": {},
   "outputs": [
    {
     "name": "stdout",
     "output_type": "stream",
     "text": [
      ".. _wine_dataset:\n",
      "\n",
      "Wine recognition dataset\n",
      "------------------------\n",
      "\n",
      "**Data Set Characteristics:**\n",
      "\n",
      "    :Number of Instances: 178 (50 in each of three classes)\n",
      "    :Number of Attributes: 13 numeric, predictive attributes and the class\n",
      "    :Attribute Information:\n",
      " \t\t- Alcohol\n",
      " \t\t- Malic acid\n",
      " \t\t- Ash\n",
      "\t\t- Alcalinity of ash  \n",
      " \t\t- Magnesium\n",
      "\t\t- Total phenols\n",
      " \t\t- Flavanoids\n",
      " \t\t- Nonflavanoid phenols\n",
      " \t\t- Proanthocyanins\n",
      "\t\t- Color intensity\n",
      " \t\t- Hue\n",
      " \t\t- OD280/OD315 of diluted wines\n",
      " \t\t- Proline\n",
      "\n",
      "    - class:\n",
      "            - class_0\n",
      "            - class_1\n",
      "            - class_2\n",
      "\t\t\n",
      "    :Summary Statistics:\n",
      "    \n",
      "    ============================= ==== ===== ======= =====\n",
      "                                   Min   Max   Mean     SD\n",
      "    ============================= ==== ===== ======= =====\n",
      "    Alcohol:                      11.0  14.8    13.0   0.8\n",
      "    Malic Acid:                   0.74  5.80    2.34  1.12\n",
      "    Ash:                          1.36  3.23    2.36  0.27\n",
      "    Alcalinity of Ash:            10.6  30.0    19.5   3.3\n",
      "    Magnesium:                    70.0 162.0    99.7  14.3\n",
      "    Total Phenols:                0.98  3.88    2.29  0.63\n",
      "    Flavanoids:                   0.34  5.08    2.03  1.00\n",
      "    Nonflavanoid Phenols:         0.13  0.66    0.36  0.12\n",
      "    Proanthocyanins:              0.41  3.58    1.59  0.57\n",
      "    Colour Intensity:              1.3  13.0     5.1   2.3\n",
      "    Hue:                          0.48  1.71    0.96  0.23\n",
      "    OD280/OD315 of diluted wines: 1.27  4.00    2.61  0.71\n",
      "    Proline:                       278  1680     746   315\n",
      "    ============================= ==== ===== ======= =====\n",
      "\n",
      "    :Missing Attribute Values: None\n",
      "    :Class Distribution: class_0 (59), class_1 (71), class_2 (48)\n",
      "    :Creator: R.A. Fisher\n",
      "    :Donor: Michael Marshall (MARSHALL%PLU@io.arc.nasa.gov)\n",
      "    :Date: July, 1988\n",
      "\n",
      "This is a copy of UCI ML Wine recognition datasets.\n",
      "https://archive.ics.uci.edu/ml/machine-learning-databases/wine/wine.data\n",
      "\n",
      "The data is the results of a chemical analysis of wines grown in the same\n",
      "region in Italy by three different cultivators. There are thirteen different\n",
      "measurements taken for different constituents found in the three types of\n",
      "wine.\n",
      "\n",
      "Original Owners: \n",
      "\n",
      "Forina, M. et al, PARVUS - \n",
      "An Extendible Package for Data Exploration, Classification and Correlation. \n",
      "Institute of Pharmaceutical and Food Analysis and Technologies,\n",
      "Via Brigata Salerno, 16147 Genoa, Italy.\n",
      "\n",
      "Citation:\n",
      "\n",
      "Lichman, M. (2013). UCI Machine Learning Repository\n",
      "[https://archive.ics.uci.edu/ml]. Irvine, CA: University of California,\n",
      "School of Information and Computer Science. \n",
      "\n",
      ".. topic:: References\n",
      "\n",
      "  (1) S. Aeberhard, D. Coomans and O. de Vel, \n",
      "  Comparison of Classifiers in High Dimensional Settings, \n",
      "  Tech. Rep. no. 92-02, (1992), Dept. of Computer Science and Dept. of  \n",
      "  Mathematics and Statistics, James Cook University of North Queensland. \n",
      "  (Also submitted to Technometrics). \n",
      "\n",
      "  The data was used with many others for comparing various \n",
      "  classifiers. The classes are separable, though only RDA \n",
      "  has achieved 100% correct classification. \n",
      "  (RDA : 100%, QDA 99.4%, LDA 98.9%, 1NN 96.1% (z-transformed data)) \n",
      "  (All results using the leave-one-out technique) \n",
      "\n",
      "  (2) S. Aeberhard, D. Coomans and O. de Vel, \n",
      "  \"THE CLASSIFICATION PERFORMANCE OF RDA\" \n",
      "  Tech. Rep. no. 92-01, (1992), Dept. of Computer Science and Dept. of \n",
      "  Mathematics and Statistics, James Cook University of North Queensland. \n",
      "  (Also submitted to Journal of Chemometrics).\n",
      "\n"
     ]
    }
   ],
   "source": [
    "#scarico il dataset dei vini da sklearn e dò un'occhiata alla descrizione fornita\n",
    "from sklearn import datasets\n",
    "wine = datasets.load_wine()\n",
    "print(wine.DESCR)"
   ]
  },
  {
   "cell_type": "markdown",
   "metadata": {},
   "source": [
    "Il dataset continete 178 campioni di analisi chimiche di vini appartenenti a 3 diverse classi (si tratta quindi di un problema di <i> CLASSIFICAZIONE) </i>. <br>\n",
    "Ogni campione è descritto da 13 features. <br>\n",
    "Le classi sono così distribuite: class_0 (59), class_1 (71), class_2 (48) <br>\n",
    "Non ci sono valori nulli."
   ]
  },
  {
   "cell_type": "markdown",
   "metadata": {},
   "source": [
    "Con Pandas creo un dataframe per visualizzare i dati in un modo più ordinato e controllare la corrispondenza con la descrizione fornita:"
   ]
  },
  {
   "cell_type": "code",
   "execution_count": 3,
   "metadata": {},
   "outputs": [
    {
     "data": {
      "text/html": [
       "<div>\n",
       "<style scoped>\n",
       "    .dataframe tbody tr th:only-of-type {\n",
       "        vertical-align: middle;\n",
       "    }\n",
       "\n",
       "    .dataframe tbody tr th {\n",
       "        vertical-align: top;\n",
       "    }\n",
       "\n",
       "    .dataframe thead th {\n",
       "        text-align: right;\n",
       "    }\n",
       "</style>\n",
       "<table border=\"1\" class=\"dataframe\">\n",
       "  <thead>\n",
       "    <tr style=\"text-align: right;\">\n",
       "      <th></th>\n",
       "      <th>alcohol</th>\n",
       "      <th>malic_acid</th>\n",
       "      <th>ash</th>\n",
       "      <th>alcalinity_of_ash</th>\n",
       "      <th>magnesium</th>\n",
       "      <th>total_phenols</th>\n",
       "      <th>flavanoids</th>\n",
       "      <th>nonflavanoid_phenols</th>\n",
       "      <th>proanthocyanins</th>\n",
       "      <th>color_intensity</th>\n",
       "      <th>hue</th>\n",
       "      <th>od280/od315_of_diluted_wines</th>\n",
       "      <th>proline</th>\n",
       "      <th>label</th>\n",
       "    </tr>\n",
       "  </thead>\n",
       "  <tbody>\n",
       "    <tr>\n",
       "      <th>0</th>\n",
       "      <td>14.23</td>\n",
       "      <td>1.71</td>\n",
       "      <td>2.43</td>\n",
       "      <td>15.6</td>\n",
       "      <td>127.0</td>\n",
       "      <td>2.80</td>\n",
       "      <td>3.06</td>\n",
       "      <td>0.28</td>\n",
       "      <td>2.29</td>\n",
       "      <td>5.64</td>\n",
       "      <td>1.04</td>\n",
       "      <td>3.92</td>\n",
       "      <td>1065.0</td>\n",
       "      <td>0</td>\n",
       "    </tr>\n",
       "    <tr>\n",
       "      <th>1</th>\n",
       "      <td>13.20</td>\n",
       "      <td>1.78</td>\n",
       "      <td>2.14</td>\n",
       "      <td>11.2</td>\n",
       "      <td>100.0</td>\n",
       "      <td>2.65</td>\n",
       "      <td>2.76</td>\n",
       "      <td>0.26</td>\n",
       "      <td>1.28</td>\n",
       "      <td>4.38</td>\n",
       "      <td>1.05</td>\n",
       "      <td>3.40</td>\n",
       "      <td>1050.0</td>\n",
       "      <td>0</td>\n",
       "    </tr>\n",
       "    <tr>\n",
       "      <th>2</th>\n",
       "      <td>13.16</td>\n",
       "      <td>2.36</td>\n",
       "      <td>2.67</td>\n",
       "      <td>18.6</td>\n",
       "      <td>101.0</td>\n",
       "      <td>2.80</td>\n",
       "      <td>3.24</td>\n",
       "      <td>0.30</td>\n",
       "      <td>2.81</td>\n",
       "      <td>5.68</td>\n",
       "      <td>1.03</td>\n",
       "      <td>3.17</td>\n",
       "      <td>1185.0</td>\n",
       "      <td>0</td>\n",
       "    </tr>\n",
       "    <tr>\n",
       "      <th>3</th>\n",
       "      <td>14.37</td>\n",
       "      <td>1.95</td>\n",
       "      <td>2.50</td>\n",
       "      <td>16.8</td>\n",
       "      <td>113.0</td>\n",
       "      <td>3.85</td>\n",
       "      <td>3.49</td>\n",
       "      <td>0.24</td>\n",
       "      <td>2.18</td>\n",
       "      <td>7.80</td>\n",
       "      <td>0.86</td>\n",
       "      <td>3.45</td>\n",
       "      <td>1480.0</td>\n",
       "      <td>0</td>\n",
       "    </tr>\n",
       "    <tr>\n",
       "      <th>4</th>\n",
       "      <td>13.24</td>\n",
       "      <td>2.59</td>\n",
       "      <td>2.87</td>\n",
       "      <td>21.0</td>\n",
       "      <td>118.0</td>\n",
       "      <td>2.80</td>\n",
       "      <td>2.69</td>\n",
       "      <td>0.39</td>\n",
       "      <td>1.82</td>\n",
       "      <td>4.32</td>\n",
       "      <td>1.04</td>\n",
       "      <td>2.93</td>\n",
       "      <td>735.0</td>\n",
       "      <td>0</td>\n",
       "    </tr>\n",
       "  </tbody>\n",
       "</table>\n",
       "</div>"
      ],
      "text/plain": [
       "   alcohol  malic_acid   ash  alcalinity_of_ash  magnesium  total_phenols  \\\n",
       "0    14.23        1.71  2.43               15.6      127.0           2.80   \n",
       "1    13.20        1.78  2.14               11.2      100.0           2.65   \n",
       "2    13.16        2.36  2.67               18.6      101.0           2.80   \n",
       "3    14.37        1.95  2.50               16.8      113.0           3.85   \n",
       "4    13.24        2.59  2.87               21.0      118.0           2.80   \n",
       "\n",
       "   flavanoids  nonflavanoid_phenols  proanthocyanins  color_intensity   hue  \\\n",
       "0        3.06                  0.28             2.29             5.64  1.04   \n",
       "1        2.76                  0.26             1.28             4.38  1.05   \n",
       "2        3.24                  0.30             2.81             5.68  1.03   \n",
       "3        3.49                  0.24             2.18             7.80  0.86   \n",
       "4        2.69                  0.39             1.82             4.32  1.04   \n",
       "\n",
       "   od280/od315_of_diluted_wines  proline  label  \n",
       "0                          3.92   1065.0      0  \n",
       "1                          3.40   1050.0      0  \n",
       "2                          3.17   1185.0      0  \n",
       "3                          3.45   1480.0      0  \n",
       "4                          2.93    735.0      0  "
      ]
     },
     "execution_count": 3,
     "metadata": {},
     "output_type": "execute_result"
    }
   ],
   "source": [
    "df = pd.DataFrame(wine.data, columns=wine.feature_names)\n",
    "df = pd.concat([df, pd.DataFrame(wine.target)], axis=1).rename(columns={0: \"label\"})\n",
    "df.head()"
   ]
  },
  {
   "cell_type": "code",
   "execution_count": 4,
   "metadata": {},
   "outputs": [
    {
     "data": {
      "text/plain": [
       "array([59, 71, 48], dtype=int64)"
      ]
     },
     "execution_count": 4,
     "metadata": {},
     "output_type": "execute_result"
    }
   ],
   "source": [
    "np.bincount(df[\"label\"])"
   ]
  },
  {
   "cell_type": "code",
   "execution_count": 5,
   "metadata": {},
   "outputs": [
    {
     "data": {
      "text/plain": [
       "1    39.89\n",
       "0    33.15\n",
       "2    26.97\n",
       "Name: label, dtype: float64"
      ]
     },
     "execution_count": 5,
     "metadata": {},
     "output_type": "execute_result"
    }
   ],
   "source": [
    "#controllo la rappresentanza percentuale delle classi\n",
    "count = df[\"label\"].value_counts()\n",
    "round(count/count.sum()*100, 2)"
   ]
  },
  {
   "cell_type": "markdown",
   "metadata": {},
   "source": [
    "La classe che prevale è la 1 ma non ci sono squilibri problematici."
   ]
  },
  {
   "cell_type": "code",
   "execution_count": 6,
   "metadata": {},
   "outputs": [
    {
     "name": "stdout",
     "output_type": "stream",
     "text": [
      "<class 'pandas.core.frame.DataFrame'>\n",
      "RangeIndex: 178 entries, 0 to 177\n",
      "Data columns (total 14 columns):\n",
      " #   Column                        Non-Null Count  Dtype  \n",
      "---  ------                        --------------  -----  \n",
      " 0   alcohol                       178 non-null    float64\n",
      " 1   malic_acid                    178 non-null    float64\n",
      " 2   ash                           178 non-null    float64\n",
      " 3   alcalinity_of_ash             178 non-null    float64\n",
      " 4   magnesium                     178 non-null    float64\n",
      " 5   total_phenols                 178 non-null    float64\n",
      " 6   flavanoids                    178 non-null    float64\n",
      " 7   nonflavanoid_phenols          178 non-null    float64\n",
      " 8   proanthocyanins               178 non-null    float64\n",
      " 9   color_intensity               178 non-null    float64\n",
      " 10  hue                           178 non-null    float64\n",
      " 11  od280/od315_of_diluted_wines  178 non-null    float64\n",
      " 12  proline                       178 non-null    float64\n",
      " 13  label                         178 non-null    int32  \n",
      "dtypes: float64(13), int32(1)\n",
      "memory usage: 18.9 KB\n"
     ]
    }
   ],
   "source": [
    "#controllo che non ci siano valori nulli\n",
    "df.info()"
   ]
  },
  {
   "cell_type": "code",
   "execution_count": 7,
   "metadata": {},
   "outputs": [
    {
     "name": "stdout",
     "output_type": "stream",
     "text": [
      "Min:\n",
      "\n",
      "alcohol                          11.03\n",
      "malic_acid                        0.74\n",
      "ash                               1.36\n",
      "alcalinity_of_ash                10.60\n",
      "magnesium                        70.00\n",
      "total_phenols                     0.98\n",
      "flavanoids                        0.34\n",
      "nonflavanoid_phenols              0.13\n",
      "proanthocyanins                   0.41\n",
      "color_intensity                   1.28\n",
      "hue                               0.48\n",
      "od280/od315_of_diluted_wines      1.27\n",
      "proline                         278.00\n",
      "dtype: float64\n",
      "\n",
      "Max:\n",
      "\n",
      "alcohol                           14.83\n",
      "malic_acid                         5.80\n",
      "ash                                3.23\n",
      "alcalinity_of_ash                 30.00\n",
      "magnesium                        162.00\n",
      "total_phenols                      3.88\n",
      "flavanoids                         5.08\n",
      "nonflavanoid_phenols               0.66\n",
      "proanthocyanins                    3.58\n",
      "color_intensity                   13.00\n",
      "hue                                1.71\n",
      "od280/od315_of_diluted_wines       4.00\n",
      "proline                         1680.00\n",
      "dtype: float64\n"
     ]
    }
   ],
   "source": [
    "#controllo massimi e minimi:\n",
    "print(\"Min:\\n\")\n",
    "print(np.min(df.drop(\"label\", axis=1), axis=0))\n",
    "print(\"\\nMax:\\n\")\n",
    "print(np.max(df.drop(\"label\", axis=1), axis=0))"
   ]
  },
  {
   "cell_type": "markdown",
   "metadata": {},
   "source": [
    "Ci sono feature che hanno valori massimi e minimi assoluti molto più grandi delle altre (come ad esempio \"proline\").\n",
    "Poichè userò l'algoritmo SVM (in questo caso specifico SVC) per la classificazione, devo scalare questi valori in modo che ogni feature abbia lo stesso peso nella ricerca del miglior margine di separazione."
   ]
  },
  {
   "cell_type": "code",
   "execution_count": 8,
   "metadata": {},
   "outputs": [],
   "source": [
    "#prima di tutto divido il dataset in training e test. \n",
    "#Per mantenere il rapporto di distribuzione delle classi, assegno a \"stratify\" l'array delle labels\n",
    "y = df[\"label\"]\n",
    "X = df.iloc[:,:-1]\n",
    "\n",
    "from sklearn.model_selection import train_test_split as split\n",
    "X_train, X_test, y_train, y_test = split(X, y, test_size=0.3, shuffle=True, random_state=0, stratify=y)\n",
    "\n",
    "#scalo i dati per uniformare minimi e massimi di ogni feature\n",
    "from sklearn.preprocessing import MinMaxScaler\n",
    "scaler = MinMaxScaler()\n",
    "\n",
    "#per non \"barare\" faccio il fitting dello scaler sui soli dati di training\n",
    "#sul training test faccio fit e transform contemporaneamente\n",
    "X_train = scaler.fit_transform(X_train)\n",
    "\n",
    "#ora che lo scaler è stato addestrato sui dati di training, faccio il transform sui dati di test\n",
    "X_test = scaler.transform(X_test)"
   ]
  },
  {
   "cell_type": "markdown",
   "metadata": {},
   "source": [
    "Per validare gli iperparametri di SVC uso StratifiedKFold per splittare il training set appena creato in più \"subset\" di allenamento-validazione e assicurarmi che ogni classe sia sempre rappresentata in modo proporzionato.\n",
    "Ognuno di questi subset verrà poi addestrato e testato sui restanti dati del trainig test. Qui entra in gioco GridSearchCV che applicherà agli iperparametri diversi valori ad ogni addestramento, restituendo infine i valori migliori."
   ]
  },
  {
   "cell_type": "code",
   "execution_count": 9,
   "metadata": {},
   "outputs": [
    {
     "name": "stdout",
     "output_type": "stream",
     "text": [
      "Fitting 5 folds for each of 50 candidates, totalling 250 fits\n"
     ]
    },
    {
     "data": {
      "text/plain": [
       "GridSearchCV(cv=StratifiedKFold(n_splits=5, random_state=0, shuffle=True),\n",
       "             estimator=SVC(), n_jobs=-1,\n",
       "             param_grid=[{'C': [0.01, 0.1, 1, 10, 100], 'kernel': ['linear']},\n",
       "                         {'C': [0.01, 0.1, 1, 10, 100],\n",
       "                          'gamma': [0.01, 0.1, 1, 10, 100], 'kernel': ['rbf']},\n",
       "                         {'C': [0.01, 0.1, 1, 10, 100],\n",
       "                          'degree': array([1, 2, 3, 4]), 'kernel': ['poly']}],\n",
       "             verbose=1)"
      ]
     },
     "execution_count": 9,
     "metadata": {},
     "output_type": "execute_result"
    }
   ],
   "source": [
    "from sklearn.svm import SVC #modello che addestrerò\n",
    "from sklearn.model_selection import StratifiedKFold #per la divisione dei dati di addestramento-validazione\n",
    "from sklearn.model_selection import GridSearchCV #per la validazione degli iperparametri\n",
    "\n",
    "cv = StratifiedKFold(n_splits=5, shuffle=True, random_state=0) #scelgo quanti subset creare\n",
    "\n",
    "#KERNEL: funzione usata per mappare i dati in una dimensione superiore\n",
    "#C: regola la quantità di errori accettati\n",
    "#GAMMA (per kernel RBF): regola la curvatura dei margini limitando quindi l'influenza di ogni singolo campione \n",
    "#DEGREE (per kernel POLY): grado della funzione polinomiale\n",
    "\n",
    "params = [\n",
    "            {\"kernel\": [\"linear\"], \"C\": [0.01, 0.1, 1, 10, 100]},\n",
    "            {\"kernel\": [\"rbf\"], \"C\": [0.01, 0.1, 1, 10, 100], \"gamma\": [0.01, 0.1, 1, 10, 100]},\n",
    "            {\"kernel\": [\"poly\"], \"C\": [0.01, 0.1, 1, 10, 100], \"degree\": np.arange(1,5,1)}\n",
    "          ]\n",
    "\n",
    "model = SVC()\n",
    "clf = GridSearchCV(model, params, cv=cv, verbose=1 , n_jobs=-1)\n",
    "clf.fit(X_train, y_train)"
   ]
  },
  {
   "cell_type": "markdown",
   "metadata": {},
   "source": [
    "Per ognuno dei 5 split sono state provate 50 diverse combinazioni di iperparametri, quindi in totale sono stati addestrati e valutati 250 modelli. <br> \n",
    "Per via dei pochi dati il tempo computazionale è basso, ho quindi esagerato volutamente con le validazioni. Per dataset più grandi sarebbe meglio cercare meno combinazioni."
   ]
  },
  {
   "cell_type": "code",
   "execution_count": 10,
   "metadata": {},
   "outputs": [
    {
     "data": {
      "text/html": [
       "<div>\n",
       "<style scoped>\n",
       "    .dataframe tbody tr th:only-of-type {\n",
       "        vertical-align: middle;\n",
       "    }\n",
       "\n",
       "    .dataframe tbody tr th {\n",
       "        vertical-align: top;\n",
       "    }\n",
       "\n",
       "    .dataframe thead th {\n",
       "        text-align: right;\n",
       "    }\n",
       "</style>\n",
       "<table border=\"1\" class=\"dataframe\">\n",
       "  <thead>\n",
       "    <tr style=\"text-align: right;\">\n",
       "      <th></th>\n",
       "      <th>param_C</th>\n",
       "      <th>param_kernel</th>\n",
       "      <th>param_degree</th>\n",
       "      <th>param_gamma</th>\n",
       "      <th>mean_test_score</th>\n",
       "    </tr>\n",
       "    <tr>\n",
       "      <th>rank_test_score</th>\n",
       "      <th></th>\n",
       "      <th></th>\n",
       "      <th></th>\n",
       "      <th></th>\n",
       "      <th></th>\n",
       "    </tr>\n",
       "  </thead>\n",
       "  <tbody>\n",
       "    <tr>\n",
       "      <th>1</th>\n",
       "      <td>0.1</td>\n",
       "      <td>poly</td>\n",
       "      <td>1</td>\n",
       "      <td>NaN</td>\n",
       "      <td>0.967667</td>\n",
       "    </tr>\n",
       "    <tr>\n",
       "      <th>1</th>\n",
       "      <td>0.01</td>\n",
       "      <td>poly</td>\n",
       "      <td>4</td>\n",
       "      <td>NaN</td>\n",
       "      <td>0.967667</td>\n",
       "    </tr>\n",
       "    <tr>\n",
       "      <th>3</th>\n",
       "      <td>0.1</td>\n",
       "      <td>linear</td>\n",
       "      <td>NaN</td>\n",
       "      <td>NaN</td>\n",
       "      <td>0.959667</td>\n",
       "    </tr>\n",
       "    <tr>\n",
       "      <th>3</th>\n",
       "      <td>0.1</td>\n",
       "      <td>rbf</td>\n",
       "      <td>NaN</td>\n",
       "      <td>1</td>\n",
       "      <td>0.959667</td>\n",
       "    </tr>\n",
       "    <tr>\n",
       "      <th>5</th>\n",
       "      <td>1</td>\n",
       "      <td>linear</td>\n",
       "      <td>NaN</td>\n",
       "      <td>NaN</td>\n",
       "      <td>0.959333</td>\n",
       "    </tr>\n",
       "  </tbody>\n",
       "</table>\n",
       "</div>"
      ],
      "text/plain": [
       "                param_C param_kernel param_degree param_gamma  mean_test_score\n",
       "rank_test_score                                                               \n",
       "1                   0.1         poly            1         NaN         0.967667\n",
       "1                  0.01         poly            4         NaN         0.967667\n",
       "3                   0.1       linear          NaN         NaN         0.959667\n",
       "3                   0.1          rbf          NaN           1         0.959667\n",
       "5                     1       linear          NaN         NaN         0.959333"
      ]
     },
     "execution_count": 10,
     "metadata": {},
     "output_type": "execute_result"
    }
   ],
   "source": [
    "#creo una tabella con i risultati delle combinazioni, ordinandole dalla migliore alla peggiore:\n",
    "scores = pd.DataFrame(clf.cv_results_)\n",
    "scores = scores.sort_values(by=\"rank_test_score\").set_index(\"rank_test_score\")\n",
    "int_cols = [\"param_C\", \"param_kernel\", \"param_degree\", \"param_gamma\", \"mean_test_score\"]\n",
    "scores[int_cols].head() #guardo solo le prime 5"
   ]
  },
  {
   "cell_type": "code",
   "execution_count": 14,
   "metadata": {},
   "outputs": [
    {
     "data": {
      "text/plain": [
       "0.981"
      ]
     },
     "execution_count": 14,
     "metadata": {},
     "output_type": "execute_result"
    }
   ],
   "source": [
    "#infine uso i migliori valori degli iperparametri appena trovati per addestrare l'intero traing set originale, \n",
    "#valutandone l'accuratezza sul test set, i cui dati risultano come \"mai visti\":\n",
    "\n",
    "from sklearn.metrics import accuracy_score as accuracy #metrica di accuratezza\n",
    "fitted_model = clf.best_estimator_\n",
    "\n",
    "pred = fitted_model.predict(X_test)\n",
    "round(accuracy(y_test, pred), 3) #valutazione"
   ]
  },
  {
   "cell_type": "markdown",
   "metadata": {},
   "source": [
    "Credo che l'accuratezza sia una metrica adeguata per valutare il modello perchè le classi sono, in linea di massima, equamente distribuite e non c'è una classe la cui predizione corretta sia più importante delle altre."
   ]
  },
  {
   "cell_type": "markdown",
   "metadata": {},
   "source": [
    "## Pipeline "
   ]
  },
  {
   "cell_type": "markdown",
   "metadata": {},
   "source": [
    "Di seguito il codice completo e ordinato. Ho implementato l'uso di una <b>Pipeline</b> per ridurre le righe e velocizzare calcoli e processi.<br>\n",
    "(Precedentemente, per spiegare ogni scelta ed ogni passaggio, non mi era possibile usarla)"
   ]
  },
  {
   "cell_type": "code",
   "execution_count": 12,
   "metadata": {},
   "outputs": [
    {
     "name": "stdout",
     "output_type": "stream",
     "text": [
      "Best params: {'svc__C': 0.01, 'svc__degree': 4, 'svc__kernel': 'poly'}\n",
      "Accuracy on training set: 1.0\n",
      "Accuracy on test set: 0.981\n"
     ]
    }
   ],
   "source": [
    "import numpy as np\n",
    "import pandas as pd\n",
    "from sklearn import datasets\n",
    "from sklearn.model_selection import train_test_split as split\n",
    "from sklearn.svm import SVC\n",
    "from sklearn.preprocessing import MinMaxScaler\n",
    "from sklearn.model_selection import StratifiedKFold\n",
    "from sklearn.model_selection import GridSearchCV\n",
    "from sklearn.pipeline import Pipeline\n",
    "from sklearn.metrics import accuracy_score as accuracy\n",
    "\n",
    "#carico il dataset\n",
    "wine = datasets.load_wine()\n",
    "X, y = wine.data, wine.target\n",
    "\n",
    "#separo i dati di training e test\n",
    "X_train, X_test, y_train, y_test = split(X, y, test_size=0.3, shuffle=True, random_state=0, stratify=y)\n",
    "\n",
    "#creo la pipeline che contiene lo scalatore ed il modello\n",
    "pipe = Pipeline([(\"scaler\", MinMaxScaler()),\n",
    "                 (\"svc\", SVC())])\n",
    "\n",
    "#preparo i valori degli iperparametri da validare\n",
    "params = [{\"svc__kernel\": [\"linear\"], \"svc__C\": [0.01, 0.1, 1, 10, 100]},\n",
    "              {\"svc__kernel\": [\"rbf\"], \"svc__C\": [0.01, 0.1, 1, 10, 100], \"svc__gamma\": [0.01, 0.1, 1, 10, 100]},\n",
    "              {\"svc__kernel\": [\"poly\"], \"svc__C\": [0.01, 0.1, 1, 10, 100], \"svc__degree\": np.arange(1,5,1)}]\n",
    "\n",
    "\n",
    "#stabilisco il numero di sottocartelle da creare per la validazione\n",
    "cv = StratifiedKFold(n_splits=5, shuffle=True, random_state=0)\n",
    "\n",
    "#cerco i migliori valori da assegnare agli iperparametri\n",
    "clf = GridSearchCV(pipe, params, cv=cv, n_jobs=-1)\n",
    "\n",
    "#addestro il modello coi migliori iperparametri trovati (GridSearchCV li applica automaticamente)\n",
    "#e valuto l'accuratezza su training e test set\n",
    "clf.fit(X_train, y_train)\n",
    "\n",
    "pred_train = clf.best_estimator_.predict(X_train)\n",
    "pred_test = clf.best_estimator_.predict(X_test)\n",
    "print(f\"Best params: {clf.best_params_}\")\n",
    "print(f\"Accuracy on training set: {round(accuracy(y_train, pred_train), 3)}\")\n",
    "print(f\"Accuracy on test set: {round(accuracy(y_test, pred_test), 3)}\")"
   ]
  },
  {
   "cell_type": "code",
   "execution_count": 13,
   "metadata": {},
   "outputs": [
    {
     "data": {
      "image/png": "[encoded data removed]",
      "text/plain": [
       "<Figure size 432x288 with 2 Axes>"
      ]
     },
     "metadata": {
      "needs_background": "light"
     },
     "output_type": "display_data"
    }
   ],
   "source": [
    "# l'accuratezza ottenuta è molto buona \n",
    "# ma stampo comunque una matrice di confusione per avere una visione più chiara degli errori\n",
    "\n",
    "import scikitplot as skplt\n",
    "import matplotlib.pyplot as plt\n",
    "\n",
    "skplt.metrics.plot_confusion_matrix(y_test, pred_test, normalize=False)\n",
    "plt.show()"
   ]
  },
  {
   "cell_type": "markdown",
   "metadata": {},
   "source": [
    "Vediamo che è stata sbagliata una sola predizione (un campione della classe 0 è stato assegnato alla classe 1).\n",
    "Mi posso quindi ritenere soddisfatto del risultato raggiunto."
   ]
  }
 ],
 "metadata": {
  "kernelspec": {
   "display_name": "Python 3",
   "language": "python",
   "name": "python3"
  },
  "language_info": {
   "codemirror_mode": {
    "name": "ipython",
    "version": 3
   },
   "file_extension": ".py",
   "mimetype": "text/x-python",
   "name": "python",
   "nbconvert_exporter": "python",
   "pygments_lexer": "ipython3",
   "version": "3.8.5"
  }
 },
 "nbformat": 4,
 "nbformat_minor": 4
}
