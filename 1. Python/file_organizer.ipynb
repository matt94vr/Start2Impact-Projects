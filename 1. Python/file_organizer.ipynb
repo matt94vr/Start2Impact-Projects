{
 "cells": [
  {
   "cell_type": "markdown",
   "metadata": {},
   "source": [
    "Il seguente script crea le cartelle (dopo aver controllato che non esistano già) \"audio\", \"docs\" e \"images\". <br>\n",
    "Dopodiché, itera la cartella principale spostando ogni file  seconda della propria estensione nella cartella di riferimento e compila un file csv in cui annota il nome, il formato ed il peso di tale file. "
   ]
  },
  {
   "cell_type": "code",
   "execution_count": 42,
   "metadata": {},
   "outputs": [
    {
     "name": "stdout",
     "output_type": "stream",
     "text": [
      "bw type:image size:94926B\n",
      "ciao type:docs size:12B\n",
      "daffodil type:image size:24657B\n",
      "eclipse type:image size:64243B\n",
      "pippo type:docs size:8299B\n",
      "song1 type:audio size:1087849B\n",
      "song2 type:audio size:764176B\n",
      "trump type:image size:10195B\n"
     ]
    }
   ],
   "source": [
    "# Script step 1\n",
    "\n",
    "# importiamo i moduli che ci serviranno\n",
    "import os, shutil, csv\n",
    "\n",
    "# per prima cosa, creiamo le cartelle (se non esistono già) in cui verranno spostati i file.\n",
    "for dirname in [\"audio\", \"docs\", \"images\"]:\n",
    "    new_folder = os.path.join(\"FileOrganizer/files\", dirname)\n",
    "    if not os.path.exists(new_folder): \n",
    "        os.makedirs(new_folder)\n",
    "\n",
    "# creiamo le tuple che contengono i formati file più comuni per ogni tipo di file che andremo ad analizzare:\n",
    "\n",
    "docs_formats = (\".txt\", \".doc\", \".docx\", \".pages\", \".odt\", \".rtf\", \".tex\")\n",
    "audio_formats = (\".mp3\", \".mp4\", \".m4a\", \".wma\", \".flac\", \",aac\")\n",
    "images_formats = (\".jpg\", \".jpeg\", \".png\", \".gif\", \".bmp\", \".tiff\")\n",
    "\n",
    "\n",
    "# controllo se il file di recape esiste ed eventualmente lo creo\n",
    "if not os.path.exists(\"FileOrganizer/files/recap.csv\"): # se non esiste\n",
    "    recap = open(\"FileOrganizer/files/recap.csv\", \"w\", newline='') # lo creo\n",
    "    writer = csv.writer(recap)\n",
    "    writer.writerow([\"name\", \"type\", \"size (B)\"]) # scrivo header del csv\n",
    "    \n",
    "else: # se esiste già\n",
    "    recap = open(\"FileOrganizer/files/recap.csv\", \"a\", newline='') # lo apro in 'append' con 'a'\n",
    "    writer = csv.writer(recap)\n",
    "\n",
    "# iteriamo in ordine alfabetico i file nella cartella \"files\":\n",
    "for file in sorted(os.listdir(\"FileOrganizer/files\")):\n",
    "\n",
    "    name, ext = os.path.splitext(file) # separo il nome del file dall'estensione\n",
    "    percorso = \"FileOrganizer/files/\" + file # specifica il percorso del file\n",
    "    size = os.stat(percorso).st_size # calcola la dimensione del file\n",
    "\n",
    "    #usiamo il metodo \"endswith\" per prendere in considerazione i formati file e smistarli nelle relative cartelle:\n",
    "    if ext in docs_formats:\n",
    "        dst = (\"FileOrganizer/files/docs/\" + file) # dst sarà la cartella in cui verrrà spostato il file\n",
    "        shutil.move(percorso, dst) # hutil.move serve a spostare il file dalla cartella originale a quella richiesta\n",
    "        writer.writerow([name, \"docs\", size]) # aggiorno recap\n",
    "        print(f'{name} type:docs size:{size}B')\n",
    "        \n",
    "    elif ext in audio_formats:\n",
    "        dst = (\"FileOrganizer/files/audio/\" + file)\n",
    "        shutil.move(percorso, dst)\n",
    "        writer.writerow([name, \"audio\", size])   \n",
    "        print(f'{name} type:audio size:{size}B')\n",
    "        \n",
    "    elif ext in images_formats:\n",
    "        dst = (\"FileOrganizer/files/images/\" + file)\n",
    "        shutil.move(percorso, dst)\n",
    "        writer.writerow([name, \"image\", size])\n",
    "        print(f'{name} type:image size:{size}B')\n",
    "               \n",
    "    else:\n",
    "        if name not in [\"audio\", \"docs\", \"images\", \"recap\"]: #per ignorare le cartelle e il file di recap\n",
    "            print(\"Formato non riconosciuto.\", name)\n",
    "        \n",
    "        \n",
    "recap.close() #chiudo il file di recap alla fine della scrittura     "
   ]
  },
  {
   "cell_type": "markdown",
   "metadata": {},
   "source": [
    "Il seguente script, invece, analizza le immagini e ne estrae le informazioni di colore sfruttando la libreria Numpy.<br>\n",
    "Infine stampa una tabella contenente le informazioni raccolte."
   ]
  },
  {
   "cell_type": "code",
   "execution_count": 114,
   "metadata": {},
   "outputs": [
    {
     "name": "stdout",
     "output_type": "stream",
     "text": [
      "╒══════════╤══════════╤═════════╤═════════════╤══════════╤══════════╤══════════╤═════════╕\n",
      "│ name     │   height │   width │   grayscale │        R │        G │        B │   ALPHA │\n",
      "╞══════════╪══════════╪═════════╪═════════════╪══════════╪══════════╪══════════╪═════════╡\n",
      "│ bw       │      512 │     512 │     21.4801 │   0      │   0      │  0       │   0     │\n",
      "├──────────┼──────────┼─────────┼─────────────┼──────────┼──────────┼──────────┼─────────┤\n",
      "│ daffodil │      500 │     335 │      0      │ 109.251  │  85.5552 │  4.96729 │   0     │\n",
      "├──────────┼──────────┼─────────┼─────────────┼──────────┼──────────┼──────────┼─────────┤\n",
      "│ eclipse  │      256 │     256 │      0      │ 109.05   │ 109.522  │ 39.849   │ 133.591 │\n",
      "├──────────┼──────────┼─────────┼─────────────┼──────────┼──────────┼──────────┼─────────┤\n",
      "│ trump    │      183 │     275 │      0      │  97.0108 │  98.9941 │ 90.9238  │   0     │\n",
      "╘══════════╧══════════╧═════════╧═════════════╧══════════╧══════════╧══════════╧═════════╛\n"
     ]
    }
   ],
   "source": [
    "# importiamo i moduli che ci serviranno\n",
    "import os\n",
    "import numpy as np\n",
    "from PIL import Image\n",
    "from tabulate import tabulate\n",
    "\n",
    "# creiamo una tabella vuota che verrà riempita ad ogni iterazione\n",
    "tab = []\n",
    "\n",
    "# iteriamo i file nella cartella \"images\"\n",
    "for i in os.listdir(\"FileOrganizer\\\\files\\\\images\"):\n",
    "    file = (\"FileOrganizer\\\\files\\\\\\images\\\\\" + i) #specifica il percorso del file\n",
    "    im = Image.open(file) #apre l'immagine\n",
    "    im_array = np.asarray(im) #trasforma l'immagine in un array numpy\n",
    "    name = i.split(\".\")[0] #separa il nome dal formato\n",
    "    height = np.shape(im_array)[0] #restituisce l'altezza dell'immagine\n",
    "    width = np.shape(im_array)[1] #restituisce la larghezza dell'immagine\n",
    "\n",
    "# usiamo \"ndim\" per effettuare diverse operazioni a seconda del numero delle dimensioni dell'array\n",
    "    if im_array.ndim == 2: # se le dimensioni sono 2, vuol dire che si tratta di un'immagine in bianco e nero\n",
    "        grayscale = np.mean(im_array) # calcoliamo la scala del grigio\n",
    "        R, G, B, ALPHA = 0.00, 0.00, 0.00, 0.00\n",
    "        \n",
    "    elif im_array.ndim == 3: # se le dimensioni sono 3, vuol dire che si tratta di un'immagine a colori\n",
    "        grayscale = 0.00 # essendo un'immagine a colori, la scala di grigio sarà 0\n",
    "        R = np.mean(im_array[:, :, 0]) # con l'uso degli slicing degli array calcoliamo la scala di colori facendone la media\n",
    "        G = np.mean(im_array[:, :, 1])\n",
    "        B = np.mean(im_array[:, :, 2])\n",
    "        \n",
    "        if np.shape(im_array)[2] == 3: # se gli elementi della terza dimensione sono 3, l'immagine è RGB, quindi ALPHA sarà 0\n",
    "            ALPHA = 0.00\n",
    "            \n",
    "        elif np.shape(im_array)[2] == 4:# se gli elementi della terza dimensione sono 4, l'immagine è RGBA, quindi andremo a calcolare il valore di ALPHA\n",
    "            ALPHA = np.mean(im_array[:, :, 3])\n",
    "            \n",
    "# creiamo una lista con le informazioni ottenute e l'aggiungiamo alla lista \"tabella\", creando così una lista di liste\n",
    "    tab.append([name, height, width, grayscale, R, G, B, ALPHA])\n",
    "    \n",
    "# infine con il modulo \"tabulate\" creiamo e stampiamo la tabella, specificande nell'headers le etichette delle colonne \n",
    "headers = [\"name\", \"height\", \"width\", \"grayscale\", \"R\", \"G\", \"B\", \"ALPHA\"]\n",
    "print(tabulate(tab, headers=headers,\n",
    "               tablefmt=\"fancy_grid\",\n",
    "               floatfmt='.2f'))"
   ]
  },
  {
   "cell_type": "code",
   "execution_count": null,
   "metadata": {},
   "outputs": [],
   "source": []
  }
 ],
 "metadata": {
  "kernelspec": {
   "display_name": "Python 3",
   "language": "python",
   "name": "python3"
  },
  "language_info": {
   "codemirror_mode": {
    "name": "ipython",
    "version": 3
   },
   "file_extension": ".py",
   "mimetype": "text/x-python",
   "name": "python",
   "nbconvert_exporter": "python",
   "pygments_lexer": "ipython3",
   "version": "3.8.5"
  }
 },
 "nbformat": 4,
 "nbformat_minor": 4
}
